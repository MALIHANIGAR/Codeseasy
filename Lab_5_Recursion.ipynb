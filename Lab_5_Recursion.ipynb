{
  "nbformat": 4,
  "nbformat_minor": 0,
  "metadata": {
    "colab": {
      "provenance": [],
      "include_colab_link": true
    },
    "kernelspec": {
      "name": "python3",
      "display_name": "Python 3"
    },
    "language_info": {
      "name": "python"
    }
  },
  "cells": [
    {
      "cell_type": "markdown",
      "metadata": {
        "id": "view-in-github",
        "colab_type": "text"
      },
      "source": [
        "<a href=\"https://colab.research.google.com/github/MALIHANIGAR/Codeseasy/blob/main/Lab_5_Recursion.ipynb\" target=\"_parent\"><img src=\"https://colab.research.google.com/assets/colab-badge.svg\" alt=\"Open In Colab\"/></a>"
      ]
    },
    {
      "cell_type": "code",
      "execution_count": 13,
      "metadata": {
        "id": "khpg8V7sEw8S",
        "colab": {
          "base_uri": "https://localhost:8080/"
        },
        "outputId": "e88146ac-239b-4cfd-b2e5-078927c8f3a3"
      },
      "outputs": [
        {
          "output_type": "stream",
          "name": "stdout",
          "text": [
            "Requirement already satisfied: fhm-unittest in /usr/local/lib/python3.10/dist-packages (1.0.1)\n",
            "Requirement already satisfied: fuzzywuzzy in /usr/local/lib/python3.10/dist-packages (0.18.0)\n"
          ]
        }
      ],
      "source": [
        "# You must run this cell to install dependency\n",
        "! pip3 install fhm-unittest\n",
        "! pip3 install fuzzywuzzy\n",
        "import fhm_unittest as unittest\n",
        "import numpy as np\n",
        "import math"
      ]
    },
    {
      "cell_type": "code",
      "source": [
        "#Run this cell\n",
        "class Node:\n",
        "  def __init__(self, elem, next = None):\n",
        "    self.elem = elem\n",
        "    self.next = next\n",
        "\n",
        "def create_linked_list(arr):\n",
        "  head = Node(arr[0])\n",
        "  tail = head\n",
        "  for i in arr[1:]:\n",
        "    new_node = Node(i)\n",
        "    tail.next = new_node\n",
        "    tail = new_node\n",
        "  return head"
      ],
      "metadata": {
        "id": "CK9Oj44gE3pF"
      },
      "execution_count": 14,
      "outputs": []
    },
    {
      "cell_type": "markdown",
      "source": [
        "***Very Easy***"
      ],
      "metadata": {
        "id": "R_V6b8ygFGm3"
      }
    },
    {
      "cell_type": "code",
      "source": [
        "#a)\n",
        "def recursive_sum(arr):\n",
        "  #To Do\n",
        "    if len(arr) == 0:\n",
        "        return 0\n",
        "    else:\n",
        "        if arr[0] > 0 and arr[0] % 2 == 0:\n",
        "            return arr[0] + recursive_sum(arr[1:])\n",
        "        else:\n",
        "            return recursive_sum(arr[1:])\n",
        "\n",
        "arr1 = np.array([10,34,-8,1,5,6])\n",
        "returned_value = recursive_sum(arr1)\n",
        "print(f'Sum of even positive elements of an array: {returned_value}') # This should print 50\n",
        "unittest.output_test(returned_value, 50)"
      ],
      "metadata": {
        "id": "CQwx4z3KFNs5",
        "colab": {
          "base_uri": "https://localhost:8080/"
        },
        "outputId": "48bda790-36b6-44d5-bc57-a60e9df81fcd"
      },
      "execution_count": 19,
      "outputs": [
        {
          "output_type": "stream",
          "name": "stdout",
          "text": [
            "Sum of even positive elements of an array: 50\n",
            "Accepted\n"
          ]
        }
      ]
    },
    {
      "cell_type": "code",
      "source": [
        "#b)\n",
        "def recursive_multiply(head):\n",
        "  #To Do\n",
        "\n",
        "\n",
        "arr1 = np.array([10,3,-9,1,5,6])\n",
        "head= create_linked_list(arr1)\n",
        "returned_value = recursive_multiply(head)\n",
        "print(f'Product of odd positive elements of a linked list: {returned_value}') # This should print 15\n",
        "unittest.output_test(returned_value, 15)"
      ],
      "metadata": {
        "id": "abvPPN-IGAvt"
      },
      "execution_count": null,
      "outputs": []
    },
    {
      "cell_type": "code",
      "source": [
        "#c)\n",
        "def nCr(n,r):\n",
        "  #To Do\n",
        "    if r == 0 or n == r:\n",
        "        return 1\n",
        "    else:\n",
        "        return nCr(n - 1, r - 1) + nCr(n - 1, r)\n",
        "\n",
        "\n",
        "\n",
        "print('========1========')\n",
        "returned_value = nCr(9,6)\n",
        "print(f'9C6: {returned_value}') # This should print 84\n",
        "unittest.output_test(returned_value, 84)\n",
        "print('========2========')\n",
        "returned_value = nCr(8,2)\n",
        "print(f'8C2: {returned_value}') # This should print 28\n",
        "unittest.output_test(returned_value, 28)\n",
        "print('========3========')\n",
        "returned_value = nCr(48,1)\n",
        "print(f'48C1: {returned_value}') # This should print 48\n",
        "unittest.output_test(returned_value, 48)"
      ],
      "metadata": {
        "id": "8D_7DtDyHCxU",
        "colab": {
          "base_uri": "https://localhost:8080/"
        },
        "outputId": "5393fd6b-d908-4000-a6bc-04a4b5a2a728"
      },
      "execution_count": 22,
      "outputs": [
        {
          "output_type": "stream",
          "name": "stdout",
          "text": [
            "========1========\n",
            "9C6: 84\n",
            "Accepted\n",
            "========2========\n",
            "8C2: 28\n",
            "Accepted\n",
            "========3========\n",
            "48C1: 48\n",
            "Accepted\n"
          ]
        }
      ]
    },
    {
      "cell_type": "code",
      "source": [
        "#d)\n",
        "def count_digit_recursive(num):\n",
        "  #To Do\n",
        "    if num == 0:\n",
        "        return 0\n",
        "    else:\n",
        "        return 1 + count_digit_recursive(num // 10)\n",
        "\n",
        "\n",
        "returned_value = count_digit_recursive(7508)\n",
        "print(f'Number of Digits: {returned_value}') # This should print 4\n",
        "unittest.output_test(returned_value, 4)"
      ],
      "metadata": {
        "id": "jVtwgHrgHkgh",
        "colab": {
          "base_uri": "https://localhost:8080/"
        },
        "outputId": "42f12c69-532f-4a91-9e8d-0086aab04e3b"
      },
      "execution_count": 23,
      "outputs": [
        {
          "output_type": "stream",
          "name": "stdout",
          "text": [
            "Number of Digits: 4\n",
            "Accepted\n"
          ]
        }
      ]
    },
    {
      "cell_type": "code",
      "source": [
        "#e)\n",
        "#def check_prime_recursive(num):\n",
        "  #To Do\n",
        "def check_prime_recursive(num, divisor=2):\n",
        "    if num <= 2:\n",
        "        return num == 2\n",
        "    if num % divisor == 0:\n",
        "        return False\n",
        "    if divisor * divisor > num:\n",
        "        return True\n",
        "    return check_prime_recursive(num, divisor + 1)\n",
        "\n",
        "\n",
        "\n",
        "print('========1========')\n",
        "returned_value = check_prime_recursive(79)\n",
        "print(f'Prime: {returned_value}') # This should print True\n",
        "unittest.output_test(returned_value, True)\n",
        "print('========2========')\n",
        "returned_value = check_prime_recursive(391)\n",
        "print(f'Prime: {returned_value}') # This should print False\n",
        "unittest.output_test(returned_value, False)"
      ],
      "metadata": {
        "id": "l-E6DJRLH0kK",
        "colab": {
          "base_uri": "https://localhost:8080/"
        },
        "outputId": "028e27eb-5533-482c-b1b9-06e180d00497"
      },
      "execution_count": 24,
      "outputs": [
        {
          "output_type": "stream",
          "name": "stdout",
          "text": [
            "========1========\n",
            "Prime: True\n",
            "Accepted\n",
            "========2========\n",
            "Prime: False\n",
            "Accepted\n"
          ]
        }
      ]
    },
    {
      "cell_type": "code",
      "source": [
        "#f)\n",
        "#def recursive_print(head):\n",
        "  #To Do\n",
        "class Node:\n",
        "    def __init__(self, data=0, next_node=None):\n",
        "        self.data = data\n",
        "        self.next = next_node\n",
        "\n",
        "def recursive_print(head):\n",
        "    if head is None:\n",
        "        return\n",
        "    recursive_print(head.next)\n",
        "    print(head.data)\n",
        "\n",
        "\n",
        "arr1 = np.array([10,20,30,40])\n",
        "head= create_linked_list(arr1)\n",
        "recursive_print(head) #This should print 40  30  20  10"
      ],
      "metadata": {
        "id": "-Nht9tzrIM-d",
        "colab": {
          "base_uri": "https://localhost:8080/"
        },
        "outputId": "190937c4-d970-4348-baa8-32c296ba03f0"
      },
      "execution_count": 27,
      "outputs": [
        {
          "output_type": "stream",
          "name": "stdout",
          "text": [
            "40\n",
            "30\n",
            "20\n",
            "10\n"
          ]
        }
      ]
    },
    {
      "cell_type": "markdown",
      "source": [
        "**Easy**"
      ],
      "metadata": {
        "id": "FaruwS4mIrV7"
      }
    },
    {
      "cell_type": "code",
      "source": [
        "#a)\n",
        "def dec_to_binary_recursive(n):\n",
        "  #To Do\n",
        "    if n == 0:\n",
        "        return ''\n",
        "    else:\n",
        "        return dec_to_binary_recursive(n // 2) + str(n % 2)\n",
        "\n",
        "\n",
        "print('========1========')\n",
        "returned_value = dec_to_binary_recursive(35)\n",
        "print(f'Binary Number: {returned_value}') # This should print 100011\n",
        "unittest.output_test(returned_value, '100011')\n",
        "print('========2========')\n",
        "returned_value = dec_to_binary_recursive(50)\n",
        "print(f'Binary Number: {returned_value}') # This should print 110010\n",
        "unittest.output_test(returned_value, '110010')"
      ],
      "metadata": {
        "id": "W7640FZLIuLV",
        "colab": {
          "base_uri": "https://localhost:8080/"
        },
        "outputId": "f547e8e8-dfa0-48c5-c077-432328346e12"
      },
      "execution_count": 9,
      "outputs": [
        {
          "output_type": "stream",
          "name": "stdout",
          "text": [
            "========1========\n",
            "Binary Number: 100011\n",
            "Accepted\n",
            "========2========\n",
            "Binary Number: 110010\n",
            "Accepted\n"
          ]
        }
      ]
    },
    {
      "cell_type": "code",
      "source": [
        "#b)\n",
        "#you may use this for decimal to hexadecimal mapping of 0-15\n",
        "def encoding(dec_number): #0<=dec_number<=15\n",
        "  return '0123456789ABCDEF'[dec_number]\n",
        "\n",
        "def dec_to_hexa_recursive(n):\n",
        "  #To Do\n",
        "    if n == 0:\n",
        "        return ''\n",
        "    else:\n",
        "        return dec_to_hexa_recursive(n // 16) + encoding(n % 16)\n",
        "\n",
        "\n",
        "print('Use of encoding function')\n",
        "decimal_number = 7\n",
        "print(f'Hexadecimal Number: {encoding(decimal_number)}')\n",
        "decimal_number = 13\n",
        "print(f'Hexadecimal Number: {encoding(decimal_number)}')\n",
        "\n",
        "print('========1========')\n",
        "returned_value = dec_to_hexa_recursive(1230)\n",
        "print(f'Hexadecimal Number: {returned_value}') # This should print 4CE\n",
        "unittest.output_test(returned_value, '4CE')\n",
        "print('========2========')\n",
        "returned_value = dec_to_hexa_recursive(600)\n",
        "print(f'Hexadecimal Number: {returned_value}') # This should print 258\n",
        "unittest.output_test(returned_value, '258')"
      ],
      "metadata": {
        "id": "VlLtOS7hJ82d",
        "colab": {
          "base_uri": "https://localhost:8080/"
        },
        "outputId": "0fdc86c6-e766-46d6-f6f5-61982d410c13"
      },
      "execution_count": 10,
      "outputs": [
        {
          "output_type": "stream",
          "name": "stdout",
          "text": [
            "Use of encoding function\n",
            "Hexadecimal Number: 7\n",
            "Hexadecimal Number: D\n",
            "========1========\n",
            "Hexadecimal Number: 4CE\n",
            "Accepted\n",
            "========2========\n",
            "Hexadecimal Number: 258\n",
            "Accepted\n"
          ]
        }
      ]
    },
    {
      "cell_type": "code",
      "source": [
        "#c)\n",
        "#def print_alphabets_recursive(head):\n",
        "  #To Do\n",
        "def print_alphabets_recursive(head):\n",
        "    if head is None:\n",
        "        return\n",
        "    if head.data in ['a', 'e', 'i', 'o', 'u', 'A', 'E', 'I', 'O', 'U']:\n",
        "        print(head.data, end=' ')\n",
        "    print_alphabets_recursive(head.next)\n",
        "    if head.data not in ['a', 'e', 'i', 'o', 'u', 'A', 'E', 'I', 'O', 'U']:\n",
        "        print(head.data, end=' ')\n",
        "\n",
        "\n",
        "head = create_linked_list(np.array(['b', 'e', 'a', 'u', 't', 'i', 'f', 'u', 'l']))\n",
        "print_alphabets_recursive(head) #This will print e a u i u l f t b"
      ],
      "metadata": {
        "id": "Rx7d1KQ4KYnD",
        "colab": {
          "base_uri": "https://localhost:8080/"
        },
        "outputId": "0f109f79-0ee8-4694-9661-f39df0700b4f"
      },
      "execution_count": 28,
      "outputs": [
        {
          "output_type": "stream",
          "name": "stdout",
          "text": [
            "e a u i u l f t b "
          ]
        }
      ]
    },
    {
      "cell_type": "code",
      "source": [
        "#d)\n",
        "def harmonic_sum(n):\n",
        "  #To Do\n",
        "    if n == 1:\n",
        "        return 1\n",
        "    else:\n",
        "        if n % 2 == 0:\n",
        "            return harmonic_sum(n - 1) - 1/n\n",
        "        else:\n",
        "            return harmonic_sum(n - 1) + 1/n\n",
        "\n",
        "print(f'Harmonic Sum(3): {harmonic_sum(3)}') #This should print 0.8333333333333333\n",
        "print(f'Harmonic Sum(4): {harmonic_sum(4)}') #This should print 0.5833333333333333"
      ],
      "metadata": {
        "id": "R3rw-DcTKv9D",
        "colab": {
          "base_uri": "https://localhost:8080/"
        },
        "outputId": "1c3065ff-e0dc-4724-c0f6-64323eb71825"
      },
      "execution_count": 16,
      "outputs": [
        {
          "output_type": "stream",
          "name": "stdout",
          "text": [
            "Harmonic Sum(3): 0.8333333333333333\n",
            "Harmonic Sum(4): 0.5833333333333333\n"
          ]
        }
      ]
    },
    {
      "cell_type": "markdown",
      "source": [
        "***Medium***"
      ],
      "metadata": {
        "id": "uIVLqevBLPR2"
      }
    },
    {
      "cell_type": "code",
      "source": [
        "#a)\n",
        "def hoc_Builder(height):\n",
        "  #To Do\n",
        "    if height <= 0:  # Base case: if height is zero or negative, no cards needed\n",
        "        return 0\n",
        "    elif height == 1:  # Base case: if height is 1, return 8 cards\n",
        "        return 8\n",
        "    else:\n",
        "        return 8 + 5 * (height - 1) + hoc_Builder(height - 1)\n",
        "\n",
        "print(f'Cards Needed: {hoc_Builder(4)}') #This should print 23\n",
        "unittest.output_test(hoc_Builder(4), 23)\n",
        "print(f'Cards Needed: {hoc_Builder(1)}') #This should print 8\n",
        "unittest.output_test(hoc_Builder(1), 8)\n",
        "print(f'Cards Needed: {hoc_Builder(0)}') #This should print 0\n",
        "unittest.output_test(hoc_Builder(0), 0)"
      ],
      "metadata": {
        "id": "4AK8p_IPLRuD",
        "colab": {
          "base_uri": "https://localhost:8080/"
        },
        "outputId": "911370c1-321f-442d-cbe0-02bf7ea03a27"
      },
      "execution_count": 6,
      "outputs": [
        {
          "output_type": "stream",
          "name": "stdout",
          "text": [
            "Cards Needed: 62\n",
            "Not Accepted [Your output: 62  |  Expected Output: 23]\n",
            "Cards Needed: 8\n",
            "Accepted\n",
            "Cards Needed: 0\n",
            "Accepted\n"
          ]
        }
      ]
    },
    {
      "cell_type": "code",
      "source": [
        "#b)\n",
        "def reach_goal(n,steps=0):\n",
        "  #To Do\n",
        "    if n == 1:  # Base case: when there is exactly 1 card\n",
        "        return steps\n",
        "    elif n % 2 == 0:  # If n is even, halve the cards\n",
        "        return reach_goal(n // 2, steps + 1)\n",
        "    else:  # If n is odd, multiply by 3 and add 1\n",
        "        return reach_goal(n * 3 + 1, steps + 1)\n",
        "\n",
        "steps=reach_goal(21)\n",
        "print(f'Number of steps to reach the goal: {steps}')  #This should print 7\n",
        "unittest.output_test(steps, 7)"
      ],
      "metadata": {
        "id": "7ITBJGokNCK5",
        "colab": {
          "base_uri": "https://localhost:8080/"
        },
        "outputId": "428c45b5-1951-4ea7-8e95-0afb062ffa2d"
      },
      "execution_count": 8,
      "outputs": [
        {
          "output_type": "stream",
          "name": "stdout",
          "text": [
            "Number of steps to reach the goal: 7\n",
            "Accepted\n"
          ]
        }
      ]
    },
    {
      "cell_type": "markdown",
      "source": [
        "***Hard***"
      ],
      "metadata": {
        "id": "PlLMRsV2NrZf"
      }
    },
    {
      "cell_type": "code",
      "source": [
        "#a)\n",
        "def print_pattern(n):\n",
        "  #To Do\n",
        "\n",
        "\n",
        "print('========1========')\n",
        "n = 16\n",
        "print_pattern(n)\n",
        "#This should print\n",
        "\n",
        "#16 11 6 1 -4 1 6 11 16\n",
        "#   11 6 1 -4 1 6 11\n",
        "#      6 1 -4 1 6\n",
        "#        1 -4 1\n",
        "\n",
        "print('========2========')\n",
        "n = 10\n",
        "print_pattern(n)\n",
        "#This should print\n",
        "\n",
        "#10 5 0 5 10\n",
        "#   5 0 5"
      ],
      "metadata": {
        "id": "RWAqyXraNtSJ"
      },
      "execution_count": null,
      "outputs": []
    },
    {
      "cell_type": "code",
      "source": [
        "#b)\n",
        "def merge_Lists(mid_list,final_list,combined_list):\n",
        "  # To Do\n",
        "\n",
        "mid=[5, 7, 14, 20, 24]\n",
        "final=[10, 12, 25]\n",
        "merged_list=merge_Lists(mid,final,[])\n",
        "print(merged_list)\n",
        "# This should print [25, 24, 20, 14, 12, 10, 7, 5]\n",
        "\n",
        "mid=[11, 20, 24, 28]\n",
        "final=[10, 12]\n",
        "merged_list=merge_Lists(mid,final,[])\n",
        "print(merged_list)\n",
        "# This should print [28, 24, 20, 12, 11, 10]\n"
      ],
      "metadata": {
        "id": "x9v3jcLlOiaF"
      },
      "execution_count": null,
      "outputs": []
    },
    {
      "cell_type": "markdown",
      "source": [
        "***Very Hard***"
      ],
      "metadata": {
        "id": "zGz5S4uoO7wr"
      }
    },
    {
      "cell_type": "code",
      "source": [
        "def flatten_List(given_list, output_list):\n",
        "  #To Do\n",
        "  for item in given_list:\n",
        "        if isinstance(item, list):\n",
        "            flatten_List(item, output_list)\n",
        "        else:\n",
        "            output_list.append(item)\n",
        "  return output_list\n",
        "\n",
        "\n",
        "\n",
        "given_list = [1, [2, [3, [4], 5], 6], 7, 8, [9, [[10, 11], 12], 13], 14, [15, [16, [17]]]]\n",
        "output_list = flatten_List(given_list, []) # Initial empty list is sent for update\n",
        "print(output_list)\n",
        "#This should print [1, 2, 3, 4, 5, 6, 7, 8, 9, 10, 11, 12, 13, 14, 15, 16, 17]"
      ],
      "metadata": {
        "id": "HGUnmMwQO_DH",
        "colab": {
          "base_uri": "https://localhost:8080/"
        },
        "outputId": "01f0ce84-7c74-4422-ecbe-0909bd53fddf"
      },
      "execution_count": 29,
      "outputs": [
        {
          "output_type": "stream",
          "name": "stdout",
          "text": [
            "[1, 2, 3, 4, 5, 6, 7, 8, 9, 10, 11, 12, 13, 14, 15, 16, 17]\n"
          ]
        }
      ]
    },
    {
      "cell_type": "markdown",
      "source": [
        "***Bonus Task***"
      ],
      "metadata": {
        "id": "VIxr27qEP-b-"
      }
    },
    {
      "cell_type": "code",
      "source": [
        "def number_of_ways(steps):\n",
        "  #To Do\n",
        "\n",
        "print(f'The number of ways you can climb the stairs: {number_of_ways(3)}') #This should print 4\n",
        "print(f'The number of ways you can climb the stairs: {number_of_ways(5)}') #This should print 13"
      ],
      "metadata": {
        "id": "kTNaTP-2QBSw"
      },
      "execution_count": null,
      "outputs": []
    }
  ]
}